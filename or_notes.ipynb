{
  "nbformat": 4,
  "nbformat_minor": 0,
  "metadata": {
    "colab": {
      "name": "or-notes.ipynb",
      "provenance": [],
      "authorship_tag": "ABX9TyOl11vwVkpsrG0InVGqoTnW",
      "include_colab_link": true
    },
    "kernelspec": {
      "name": "python3",
      "display_name": "Python 3"
    },
    "language_info": {
      "name": "python"
    }
  },
  "cells": [
    {
      "cell_type": "markdown",
      "metadata": {
        "id": "view-in-github",
        "colab_type": "text"
      },
      "source": [
        "<a href=\"https://colab.research.google.com/github/noahgift/or/blob/master/or_notes.ipynb\" target=\"_parent\"><img src=\"https://colab.research.google.com/assets/colab-badge.svg\" alt=\"Open In Colab\"/></a>"
      ]
    },
    {
      "cell_type": "markdown",
      "metadata": {
        "id": "-Qtv2d54QTqO"
      },
      "source": [
        "## Randomness"
      ]
    },
    {
      "cell_type": "code",
      "metadata": {
        "id": "esB9G5SyQQ7k"
      },
      "source": [
        "choice_list = [\"A\", \"B\", \"C\", \"D\"]"
      ],
      "execution_count": 2,
      "outputs": []
    },
    {
      "cell_type": "code",
      "metadata": {
        "id": "VcAS7cxrQa3i"
      },
      "source": [
        "from random import choices"
      ],
      "execution_count": 3,
      "outputs": []
    },
    {
      "cell_type": "code",
      "metadata": {
        "colab": {
          "base_uri": "https://localhost:8080/"
        },
        "id": "-mnQT7mnQiBX",
        "outputId": "b6e72826-ed83-46db-83ac-46fe99bebe86"
      },
      "source": [
        "choices(choice_list)"
      ],
      "execution_count": 5,
      "outputs": [
        {
          "output_type": "execute_result",
          "data": {
            "text/plain": [
              "['B']"
            ]
          },
          "metadata": {},
          "execution_count": 5
        }
      ]
    },
    {
      "cell_type": "code",
      "metadata": {
        "colab": {
          "base_uri": "https://localhost:8080/"
        },
        "id": "gpsCdUlzQmk3",
        "outputId": "2bf6838c-182c-4c3c-9d77-f60b4a48c805"
      },
      "source": [
        "for _ in range(10):\n",
        "    print(choices(choice_list))"
      ],
      "execution_count": 7,
      "outputs": [
        {
          "output_type": "stream",
          "name": "stdout",
          "text": [
            "['A']\n",
            "['D']\n",
            "['B']\n",
            "['A']\n",
            "['A']\n",
            "['B']\n",
            "['B']\n",
            "['B']\n",
            "['D']\n",
            "['D']\n"
          ]
        }
      ]
    },
    {
      "cell_type": "code",
      "metadata": {
        "id": "cUJQj0hGQ32K"
      },
      "source": [
        ""
      ],
      "execution_count": null,
      "outputs": []
    }
  ]
}