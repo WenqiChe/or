{
  "nbformat": 4,
  "nbformat_minor": 0,
  "metadata": {
    "colab": {
      "name": "or-notes.ipynb",
      "provenance": [],
      "authorship_tag": "ABX9TyOhNmvRJrTnKe0+k7OsNhUV",
      "include_colab_link": true
    },
    "kernelspec": {
      "name": "python3",
      "display_name": "Python 3"
    },
    "language_info": {
      "name": "python"
    }
  },
  "cells": [
    {
      "cell_type": "markdown",
      "metadata": {
        "id": "view-in-github",
        "colab_type": "text"
      },
      "source": [
        "<a href=\"https://colab.research.google.com/github/noahgift/or/blob/master/or_notes.ipynb\" target=\"_parent\"><img src=\"https://colab.research.google.com/assets/colab-badge.svg\" alt=\"Open In Colab\"/></a>"
      ]
    },
    {
      "cell_type": "markdown",
      "metadata": {
        "id": "-Qtv2d54QTqO"
      },
      "source": [
        "## Randomness"
      ]
    },
    {
      "cell_type": "markdown",
      "metadata": {
        "id": "znCMQfH2RGkv"
      },
      "source": [
        "#### For Loop Random"
      ]
    },
    {
      "cell_type": "code",
      "metadata": {
        "id": "esB9G5SyQQ7k"
      },
      "source": [
        "choice_list = [\"A\", \"B\", \"C\", \"D\"]"
      ],
      "execution_count": 2,
      "outputs": []
    },
    {
      "cell_type": "code",
      "metadata": {
        "id": "VcAS7cxrQa3i"
      },
      "source": [
        "from random import choices"
      ],
      "execution_count": 3,
      "outputs": []
    },
    {
      "cell_type": "code",
      "metadata": {
        "colab": {
          "base_uri": "https://localhost:8080/"
        },
        "id": "-mnQT7mnQiBX",
        "outputId": "b6e72826-ed83-46db-83ac-46fe99bebe86"
      },
      "source": [
        "choices(choice_list)"
      ],
      "execution_count": 5,
      "outputs": [
        {
          "output_type": "execute_result",
          "data": {
            "text/plain": [
              "['B']"
            ]
          },
          "metadata": {},
          "execution_count": 5
        }
      ]
    },
    {
      "cell_type": "code",
      "metadata": {
        "colab": {
          "base_uri": "https://localhost:8080/"
        },
        "id": "gpsCdUlzQmk3",
        "outputId": "2bf6838c-182c-4c3c-9d77-f60b4a48c805"
      },
      "source": [
        "for _ in range(10):\n",
        "    print(choices(choice_list))"
      ],
      "execution_count": 7,
      "outputs": [
        {
          "output_type": "stream",
          "name": "stdout",
          "text": [
            "['A']\n",
            "['D']\n",
            "['B']\n",
            "['A']\n",
            "['A']\n",
            "['B']\n",
            "['B']\n",
            "['B']\n",
            "['D']\n",
            "['D']\n"
          ]
        }
      ]
    },
    {
      "cell_type": "code",
      "metadata": {
        "id": "cUJQj0hGQ32K"
      },
      "source": [
        ""
      ],
      "execution_count": null,
      "outputs": []
    },
    {
      "cell_type": "markdown",
      "metadata": {
        "id": "BTxnqX03RKTr"
      },
      "source": [
        "#### Generator Function Yield Forever Random"
      ]
    },
    {
      "cell_type": "code",
      "metadata": {
        "id": "wfP2yX73ROrQ"
      },
      "source": [
        "def yield_fruit():\n",
        "\n",
        "    from random import choices\n",
        "    fruit = [\"apple\", \"pear\", \"peach\", \"cherry\"]\n",
        "    while True:\n",
        "        yield choices(fruit)\n",
        "\n"
      ],
      "execution_count": 13,
      "outputs": []
    },
    {
      "cell_type": "code",
      "metadata": {
        "id": "KDyi8DrORn3N"
      },
      "source": [
        "def random_fruit(number=5):\n",
        "    fruits = yield_fruit()\n",
        "\n",
        "    for _ in range(number):\n",
        "        print(next(fruits))"
      ],
      "execution_count": 16,
      "outputs": []
    },
    {
      "cell_type": "code",
      "metadata": {
        "colab": {
          "base_uri": "https://localhost:8080/"
        },
        "id": "EXdPox7TRspt",
        "outputId": "0e37f873-22d6-4a9c-968f-82525a8cbf19"
      },
      "source": [
        "random_fruit(3)"
      ],
      "execution_count": 17,
      "outputs": [
        {
          "output_type": "stream",
          "name": "stdout",
          "text": [
            "['peach']\n",
            "['cherry']\n",
            "['peach']\n"
          ]
        }
      ]
    },
    {
      "cell_type": "code",
      "metadata": {
        "colab": {
          "base_uri": "https://localhost:8080/"
        },
        "id": "cbWlf4OrSL9V",
        "outputId": "0b8d9d4c-8e63-4203-fdcc-5add9c798360"
      },
      "source": [
        "random_fruit(6)"
      ],
      "execution_count": 19,
      "outputs": [
        {
          "output_type": "stream",
          "name": "stdout",
          "text": [
            "['cherry']\n",
            "['cherry']\n",
            "['apple']\n",
            "['cherry']\n",
            "['peach']\n",
            "['pear']\n"
          ]
        }
      ]
    },
    {
      "cell_type": "code",
      "metadata": {
        "colab": {
          "base_uri": "https://localhost:8080/"
        },
        "id": "R_5jfDoISPE0",
        "outputId": "51ceb38e-006a-49ee-f427-5def3de06199"
      },
      "source": [
        "random_fruit(2)"
      ],
      "execution_count": 20,
      "outputs": [
        {
          "output_type": "stream",
          "name": "stdout",
          "text": [
            "['cherry']\n",
            "['cherry']\n"
          ]
        }
      ]
    },
    {
      "cell_type": "markdown",
      "metadata": {
        "id": "rV3ErYR2Szmd"
      },
      "source": [
        "#### Many Fruit"
      ]
    },
    {
      "cell_type": "code",
      "metadata": {
        "colab": {
          "base_uri": "https://localhost:8080/"
        },
        "id": "PW46F7v_Spo0",
        "outputId": "dd929e94-cd26-470f-f153-af704a497a9b"
      },
      "source": [
        "from random import choices\n",
        "fruit = [\"apple\", \"pear\", \"peach\", \"cherry\"]\n",
        "for _ in range(5):\n",
        "    print(choices(fruit, k=2))"
      ],
      "execution_count": 21,
      "outputs": [
        {
          "output_type": "stream",
          "name": "stdout",
          "text": [
            "['cherry', 'peach']\n",
            "['peach', 'peach']\n",
            "['cherry', 'apple']\n",
            "['pear', 'pear']\n",
            "['apple', 'apple']\n"
          ]
        }
      ]
    },
    {
      "cell_type": "code",
      "metadata": {
        "id": "5S63r8tOS-W5"
      },
      "source": [
        ""
      ],
      "execution_count": null,
      "outputs": []
    }
  ]
}