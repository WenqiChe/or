{
  "nbformat": 4,
  "nbformat_minor": 0,
  "metadata": {
    "colab": {
      "name": "Explore-Greedy-Solutions.ipynb",
      "provenance": [],
      "authorship_tag": "ABX9TyPzoF4104SqzgJFtYuujLQr",
      "include_colab_link": true
    },
    "kernelspec": {
      "name": "python3",
      "display_name": "Python 3"
    }
  },
  "cells": [
    {
      "cell_type": "markdown",
      "metadata": {
        "id": "view-in-github",
        "colab_type": "text"
      },
      "source": [
        "<a href=\"https://colab.research.google.com/github/noahgift/or/blob/master/Explore_Greedy_Solutions.ipynb\" target=\"_parent\"><img src=\"https://colab.research.google.com/assets/colab-badge.svg\" alt=\"Open In Colab\"/></a>"
      ]
    },
    {
      "cell_type": "markdown",
      "metadata": {
        "id": "pXNJ2wNeCXb7",
        "colab_type": "text"
      },
      "source": [
        "### How do I use randomness in Python?"
      ]
    },
    {
      "cell_type": "code",
      "metadata": {
        "id": "zwJZJ5FjCJpF",
        "colab_type": "code",
        "colab": {}
      },
      "source": [
        "food = [\"apple\", \"banana\", \"strawberry\"]\n",
        "from random import choices"
      ],
      "execution_count": null,
      "outputs": []
    },
    {
      "cell_type": "code",
      "metadata": {
        "id": "vqrGbacKCqeP",
        "colab_type": "code",
        "colab": {
          "base_uri": "https://localhost:8080/",
          "height": 35
        },
        "outputId": "9eda1756-8809-4935-935f-c64c610456a2"
      },
      "source": [
        "choices(food)"
      ],
      "execution_count": null,
      "outputs": [
        {
          "output_type": "execute_result",
          "data": {
            "text/plain": [
              "['apple']"
            ]
          },
          "metadata": {
            "tags": []
          },
          "execution_count": 7
        }
      ]
    },
    {
      "cell_type": "markdown",
      "metadata": {
        "id": "SzpEowQ8DAH1",
        "colab_type": "text"
      },
      "source": [
        "### What about \"lazy\" infinite random"
      ]
    },
    {
      "cell_type": "code",
      "metadata": {
        "id": "wMf6ddfvCtKR",
        "colab_type": "code",
        "colab": {}
      },
      "source": [
        "from random import choices\n",
        "def return_food_forever():\n",
        "    food = [\"apple\", \"banana\", \"strawberry\"]\n",
        "    for meal in food:\n",
        "        yield choices(food)"
      ],
      "execution_count": null,
      "outputs": []
    },
    {
      "cell_type": "code",
      "metadata": {
        "id": "EIalNhXxDSf1",
        "colab_type": "code",
        "colab": {
          "base_uri": "https://localhost:8080/",
          "height": 125
        },
        "outputId": "c0ab4d62-940c-44c7-9a9c-de1e46922319"
      },
      "source": [
        "for result in range(6):\n",
        "    print(next(return_food_forever()))"
      ],
      "execution_count": null,
      "outputs": [
        {
          "output_type": "stream",
          "text": [
            "['apple']\n",
            "['banana']\n",
            "['strawberry']\n",
            "['strawberry']\n",
            "['strawberry']\n",
            "['apple']\n"
          ],
          "name": "stdout"
        }
      ]
    },
    {
      "cell_type": "code",
      "metadata": {
        "id": "rbbEms84Ddka",
        "colab_type": "code",
        "colab": {
          "base_uri": "https://localhost:8080/",
          "height": 35
        },
        "outputId": "eb0475e6-e17e-401a-ce1b-a8d08ff73f63"
      },
      "source": [
        "next(return_food_forever())"
      ],
      "execution_count": null,
      "outputs": [
        {
          "output_type": "execute_result",
          "data": {
            "text/plain": [
              "['strawberry']"
            ]
          },
          "metadata": {
            "tags": []
          },
          "execution_count": 17
        }
      ]
    },
    {
      "cell_type": "code",
      "metadata": {
        "id": "ViguxL1-Dulz",
        "colab_type": "code",
        "colab": {}
      },
      "source": [
        ""
      ],
      "execution_count": null,
      "outputs": []
    },
    {
      "cell_type": "markdown",
      "metadata": {
        "id": "n_XNybLLEMBa",
        "colab_type": "text"
      },
      "source": [
        "### How can I generate the correct amount of change?"
      ]
    },
    {
      "cell_type": "markdown",
      "metadata": {
        "id": "GYs4u1kzEmON",
        "colab_type": "text"
      },
      "source": [
        "\n",
        "This is an example of a web service that returns change\n",
        "```python\n",
        "import json\n",
        "import decimal\n",
        "\n",
        "\n",
        "def lambda_handler(event, context):\n",
        "\n",
        "  print(event)\n",
        "  if 'body' in event:\n",
        "    event = json.loads(event[\"body\"])\n",
        "\n",
        "  amount = float(event[\"amount\"])\n",
        "  res = []\n",
        "  coins = [1,5,10,25]\n",
        "  coin_lookup = {25: \"quarters\", 10: \"dimes\", 5: \"nickels\", 1: \"pennies\"}\n",
        "  coin = coins.pop()\n",
        "  num, rem  = divmod(int(amount*100), coin)\n",
        "  res.append({num:coin_lookup[coin]})\n",
        "  while rem > 0:\n",
        "    coin = coins.pop()\n",
        "    num, rem = divmod(rem, coin)\n",
        "    if num:\n",
        "      if coin in coin_lookup:\n",
        "        res.append({num:coin_lookup[coin]})\n",
        "\n",
        "  response = {\n",
        "    \"statusCode\": \"200\",\n",
        "    \"headers\": { \"Content-type\": \"application/json\" },\n",
        "    \"body\": json.dumps({\"res\": res})\n",
        "  }\n",
        "\n",
        "  return response\n",
        "```\n",
        "\n"
      ]
    },
    {
      "cell_type": "code",
      "metadata": {
        "id": "7leu4Uf7EPQ8",
        "colab_type": "code",
        "colab": {}
      },
      "source": [
        "def change(amount):\n",
        "    amount = float(amount)\n",
        "    res = []\n",
        "    coins = [1,5,10,25]\n",
        "    coin_lookup = {25: \"quarters\", 10: \"dimes\", 5: \"nickels\", 1: \"pennies\"}\n",
        "    coin = coins.pop()\n",
        "    num, rem  = divmod(int(amount*100), coin)\n",
        "    res.append({num:coin_lookup[coin]})\n",
        "    while rem > 0:\n",
        "        print(f\"This is the num: {num} and this is the rem: {rem}\")\n",
        "        coin = coins.pop()\n",
        "        num, rem = divmod(rem, coin)\n",
        "        if num:\n",
        "            if coin in coin_lookup:\n",
        "                res.append({num:coin_lookup[coin]})\n",
        "    return res"
      ],
      "execution_count": 4,
      "outputs": []
    },
    {
      "cell_type": "code",
      "metadata": {
        "id": "3oM4JQ4YEyKY",
        "colab_type": "code",
        "colab": {
          "base_uri": "https://localhost:8080/",
          "height": 89
        },
        "outputId": "8262fff3-bec4-4a20-90d2-6b430426066e"
      },
      "source": [
        "change(11.34)"
      ],
      "execution_count": 6,
      "outputs": [
        {
          "output_type": "stream",
          "text": [
            "This is the num: 45 and this is the rem: 9\n",
            "This is the num: 0 and this is the rem: 9\n",
            "This is the num: 1 and this is the rem: 4\n"
          ],
          "name": "stdout"
        },
        {
          "output_type": "execute_result",
          "data": {
            "text/plain": [
              "[{45: 'quarters'}, {1: 'nickels'}, {4: 'pennies'}]"
            ]
          },
          "metadata": {
            "tags": []
          },
          "execution_count": 6
        }
      ]
    },
    {
      "cell_type": "code",
      "metadata": {
        "id": "ovr4q8LNFLVV",
        "colab_type": "code",
        "colab": {}
      },
      "source": [
        ""
      ],
      "execution_count": null,
      "outputs": []
    }
  ]
}