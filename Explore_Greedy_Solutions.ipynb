{
  "nbformat": 4,
  "nbformat_minor": 0,
  "metadata": {
    "colab": {
      "name": "Explore-Greedy-Solutions.ipynb",
      "provenance": [],
      "authorship_tag": "ABX9TyMogIf+N3xvkdkgPj56bBxF",
      "include_colab_link": true
    },
    "kernelspec": {
      "name": "python3",
      "display_name": "Python 3"
    }
  },
  "cells": [
    {
      "cell_type": "markdown",
      "metadata": {
        "id": "view-in-github",
        "colab_type": "text"
      },
      "source": [
        "<a href=\"https://colab.research.google.com/github/noahgift/or/blob/master/Explore_Greedy_Solutions.ipynb\" target=\"_parent\"><img src=\"https://colab.research.google.com/assets/colab-badge.svg\" alt=\"Open In Colab\"/></a>"
      ]
    },
    {
      "cell_type": "markdown",
      "metadata": {
        "id": "pXNJ2wNeCXb7",
        "colab_type": "text"
      },
      "source": [
        "### How do I use randomness in Python?"
      ]
    },
    {
      "cell_type": "code",
      "metadata": {
        "id": "zwJZJ5FjCJpF",
        "colab_type": "code",
        "colab": {}
      },
      "source": [
        "food = [\"apple\", \"banana\", \"strawberry\"]\n",
        "from random import choices"
      ],
      "execution_count": 1,
      "outputs": []
    },
    {
      "cell_type": "code",
      "metadata": {
        "id": "vqrGbacKCqeP",
        "colab_type": "code",
        "colab": {
          "base_uri": "https://localhost:8080/",
          "height": 35
        },
        "outputId": "9eda1756-8809-4935-935f-c64c610456a2"
      },
      "source": [
        "choices(food)"
      ],
      "execution_count": 7,
      "outputs": [
        {
          "output_type": "execute_result",
          "data": {
            "text/plain": [
              "['apple']"
            ]
          },
          "metadata": {
            "tags": []
          },
          "execution_count": 7
        }
      ]
    },
    {
      "cell_type": "code",
      "metadata": {
        "id": "wMf6ddfvCtKR",
        "colab_type": "code",
        "colab": {}
      },
      "source": [
        ""
      ],
      "execution_count": null,
      "outputs": []
    }
  ]
}